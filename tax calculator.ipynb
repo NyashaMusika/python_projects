{
 "cells": [
  {
   "cell_type": "code",
   "execution_count": 65,
   "metadata": {},
   "outputs": [],
   "source": [
    "def state_tax(state):\n",
    "    if state == 'newyork':\n",
    "        return 1.1228\n",
    "    elif state == 'hawaii':\n",
    "        return 1.1148\n",
    "    elif state == 'vermont':\n",
    "        return 1.1073\n",
    "    else:\n",
    "        return 1.15 "
   ]
  },
  {
   "cell_type": "code",
   "execution_count": 66,
   "metadata": {},
   "outputs": [],
   "source": [
    "tax = state_tax('newyork')"
   ]
  },
  {
   "cell_type": "code",
   "execution_count": 67,
   "metadata": {},
   "outputs": [
    {
     "data": {
      "text/plain": [
       "1.1228"
      ]
     },
     "execution_count": 67,
     "metadata": {},
     "output_type": "execute_result"
    }
   ],
   "source": [
    "tax"
   ]
  },
  {
   "cell_type": "code",
   "execution_count": 68,
   "metadata": {},
   "outputs": [],
   "source": [
    "class Cost():\n",
    "    \n",
    "    def __init__(self,value,tax):\n",
    "        \n",
    "        self.value = value\n",
    "        self.tax = tax \n",
    "    def total(self):\n",
    "        return self.value*self.tax"
   ]
  },
  {
   "cell_type": "code",
   "execution_count": 69,
   "metadata": {},
   "outputs": [],
   "source": [
    "total = Cost(100,1.15)"
   ]
  },
  {
   "cell_type": "code",
   "execution_count": 70,
   "metadata": {},
   "outputs": [
    {
     "data": {
      "text/plain": [
       "114.99999999999999"
      ]
     },
     "execution_count": 70,
     "metadata": {},
     "output_type": "execute_result"
    }
   ],
   "source": [
    "total.total()"
   ]
  },
  {
   "cell_type": "code",
   "execution_count": 71,
   "metadata": {},
   "outputs": [
    {
     "data": {
      "text/plain": [
       "114.99999999999999"
      ]
     },
     "execution_count": 71,
     "metadata": {},
     "output_type": "execute_result"
    }
   ],
   "source": [
    "total.value*total.tax"
   ]
  },
  {
   "cell_type": "code",
   "execution_count": 91,
   "metadata": {},
   "outputs": [],
   "source": [
    "def main():\n",
    "    print('Select a state newyork,vermont,hawaii or other: ')\n",
    "    state = input('Enter your state: ').lower\n",
    "    tax = state_tax(state())\n",
    "    value = int(input('Enter the cost of your goods: '))\n",
    "    total= Cost(value,tax)\n",
    "    total_value = total.total()\n",
    "    print(f'Your tax rate is {total.tax-1}% \\nThe total value of your goods is {total_value} dollars tax inclusive.')\n",
    "    "
   ]
  },
  {
   "cell_type": "code",
   "execution_count": 92,
   "metadata": {},
   "outputs": [
    {
     "name": "stdout",
     "output_type": "stream",
     "text": [
      "Select a state newyork,vermont,hawaii or other: \n",
      "Enter your state: other\n",
      "Enter the cost of your goods: 289\n",
      "Your tax rate is 0.1499999999999999% \n",
      "The total value of your goods is 332.34999999999997 dollars tax inclusive\n"
     ]
    }
   ],
   "source": [
    "main()"
   ]
  },
  {
   "cell_type": "code",
   "execution_count": null,
   "metadata": {},
   "outputs": [],
   "source": []
  }
 ],
 "metadata": {
  "kernelspec": {
   "display_name": "Python 3",
   "language": "python",
   "name": "python3"
  },
  "language_info": {
   "codemirror_mode": {
    "name": "ipython",
    "version": 3
   },
   "file_extension": ".py",
   "mimetype": "text/x-python",
   "name": "python",
   "nbconvert_exporter": "python",
   "pygments_lexer": "ipython3",
   "version": "3.7.6"
  }
 },
 "nbformat": 4,
 "nbformat_minor": 4
}
