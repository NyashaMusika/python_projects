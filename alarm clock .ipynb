{
 "cells": [
  {
   "cell_type": "markdown",
   "metadata": {},
   "source": [
    "# So we're building a clock"
   ]
  },
  {
   "cell_type": "code",
   "execution_count": 1,
   "metadata": {},
   "outputs": [],
   "source": [
    "import os\n",
    "import time\n",
    "import winsound\n",
    "import platform\n",
    "\n"
   ]
  },
  {
   "cell_type": "code",
   "execution_count": 2,
   "metadata": {},
   "outputs": [],
   "source": [
    "def sound():\n",
    "    #number of times I want the alarm to ring\n",
    "    for a in range(3):\n",
    "        #number of beeps\n",
    "        for b in range(3):\n",
    "            #the sound that is played default for A regular beep\n",
    "            winsound.MessageBeep(-1)\n",
    "            #the delay period in seconds before it goes for another round of beeps\n",
    "        time.sleep(2)\n",
    "        "
   ]
  },
  {
   "cell_type": "code",
   "execution_count": 3,
   "metadata": {},
   "outputs": [],
   "source": [
    "def alarm(n):\n",
    "    print('Alarm rings in:', n ,' seconds')\n",
    "    time.sleep(n) #remember this is the buffer so code waits this long before executing the next line\n",
    "    \n",
    "    sound()\n",
    "        "
   ]
  },
  {
   "cell_type": "code",
   "execution_count": 4,
   "metadata": {},
   "outputs": [],
   "source": [
    "def input_destinations(user_input):\n",
    "    \n",
    "    if user_input == '1':\n",
    "        \n",
    "        user_input = int(input('how many hours would you like to wait?'))\n",
    "        wait_time = user_input*60*60\n",
    "        alarm(wait_time)\n",
    "        \n",
    "    elif user_input == '2':\n",
    "        \n",
    "        user_input = int(input('how many minutes would you like to wait?'))\n",
    "        wait_time = user_input*60\n",
    "        alarm(wait_time)\n",
    "        \n",
    "    elif user_input == '3':\n",
    "        \n",
    "        user_input = int(input('how many seconds would you like to wait?'))\n",
    "        wait_time = user_input\n",
    "        alarm(wait_time)\n",
    "        \n",
    "    elif user_input == '4':\n",
    "        \n",
    "        hours = int(input('how many hours would you like to wait?'))\n",
    "        minutes = int(input('how many minutes would you like to wait?'))\n",
    "        seconds = int(input('how many seconds would you like to wait?'))\n",
    "        wait_time = hours*60*60 + minutes*60 + seconds\n",
    "        alarm(wait_time)\n",
    "    else:\n",
    "        try:\n",
    "            os.system('cls') # If OS is Windows\n",
    "            main()\n",
    "\n",
    "        except:\n",
    "            os.system('clear') # If OS is Linux or Mac\n",
    "            main()   "
   ]
  },
  {
   "cell_type": "code",
   "execution_count": 5,
   "metadata": {},
   "outputs": [],
   "source": [
    "def main():\n",
    "    print('What unit of time do you want to wait?\\n (1)hours\\n (2)minutes\\n (3)seconds\\n (4)combination')\n",
    "    main_input = input()\n",
    "    input_destinations(main_input)\n",
    "    return\n"
   ]
  },
  {
   "cell_type": "code",
   "execution_count": 6,
   "metadata": {},
   "outputs": [
    {
     "name": "stdout",
     "output_type": "stream",
     "text": [
      "What unit of time do you want to wait?\n",
      " (1)hours\n",
      " (2)minutes\n",
      " (3)seconds\n",
      " (4)combination\n",
      "3\n",
      "how many seconds would you like to wait?3\n",
      "Alarm rings in: 3  seconds\n"
     ]
    }
   ],
   "source": [
    "main()"
   ]
  },
  {
   "cell_type": "markdown",
   "metadata": {},
   "source": [
    "# My recreation of the alarm clock"
   ]
  },
  {
   "cell_type": "code",
   "execution_count": 1,
   "metadata": {},
   "outputs": [],
   "source": [
    "import os \n",
    "import time\n",
    "import platform \n",
    "import winsound"
   ]
  },
  {
   "cell_type": "code",
   "execution_count": 3,
   "metadata": {},
   "outputs": [],
   "source": [
    "def sound():\n",
    "    for a in range(2):\n",
    "        for b in range(3):  \n",
    "            winsound.MessageBeep(-1)\n",
    "        time.sleep(2)"
   ]
  },
  {
   "cell_type": "code",
   "execution_count": 4,
   "metadata": {},
   "outputs": [],
   "source": [
    "def alarm(n):\n",
    "    print(f'Your alarm will ring in {n} seconds')\n",
    "    time.sleep(n)\n",
    "    sound()"
   ]
  },
  {
   "cell_type": "code",
   "execution_count": 5,
   "metadata": {},
   "outputs": [],
   "source": [
    "def user_inputs(selection):\n",
    "    \n",
    "    if selection == 'a':\n",
    "        value = int(input('how many hours would you like to wait?'))\n",
    "        wait_time = value*60*60\n",
    "        alarm(wait_time)\n",
    "        \n",
    "    elif selection == 'b':\n",
    "        value = int(input('how many minutes would you like to wait?'))\n",
    "        wait_time = value*60 \n",
    "        alarm(wait_time)\n",
    "    \n",
    "    elif selection == 'c':\n",
    "        value = int(input('how many seconds would you like to wait?'))\n",
    "        wait_time = value\n",
    "        alarm(wait_time)\n",
    "        \n",
    "    elif selection == 'd':\n",
    "        hours = int(input('hours: '))\n",
    "        minutes = int(input('minutes: '))\n",
    "        seconds = int(input('seconds: '))\n",
    "        \n",
    "        wait_time = hours*60*60 + minutes*60 + seconds \n",
    "        alarm(wait_time)\n",
    "        \n",
    "    else:\n",
    "        os.system(cls)   "
   ]
  },
  {
   "cell_type": "code",
   "execution_count": 6,
   "metadata": {},
   "outputs": [],
   "source": [
    "def main():\n",
    "    print('How long do you want to wait?\\n a)hours\\n b)minutes\\n c)seconds\\n d)combinided')\n",
    "    main_input = input()\n",
    "    user_inputs(main_input)"
   ]
  },
  {
   "cell_type": "code",
   "execution_count": 7,
   "metadata": {},
   "outputs": [
    {
     "name": "stdout",
     "output_type": "stream",
     "text": [
      "How long do you want to wait?\n",
      " a)hours\n",
      " b)minutes\n",
      " c)seconds\n",
      " d)combinided\n",
      "c\n",
      "how many seconds would you like to wait?2\n",
      "Your alarm will ring in 2 seconds\n"
     ]
    }
   ],
   "source": [
    "main()"
   ]
  }
 ],
 "metadata": {
  "kernelspec": {
   "display_name": "Python 3",
   "language": "python",
   "name": "python3"
  },
  "language_info": {
   "codemirror_mode": {
    "name": "ipython",
    "version": 3
   },
   "file_extension": ".py",
   "mimetype": "text/x-python",
   "name": "python",
   "nbconvert_exporter": "python",
   "pygments_lexer": "ipython3",
   "version": "3.7.6"
  }
 },
 "nbformat": 4,
 "nbformat_minor": 4
}
