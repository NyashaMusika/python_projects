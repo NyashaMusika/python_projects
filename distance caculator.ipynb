{
 "cells": [
  {
   "cell_type": "code",
   "execution_count": 8,
   "metadata": {},
   "outputs": [],
   "source": [
    "class Coordinates():\n",
    "    \n",
    "    def __init__(self,latitude1,longitude1,latitude2,longitude2):\n",
    "        \n",
    "        self.latitude1 = latitude1\n",
    "        self.longitude1  = longitude1\n",
    "        self.latitude2 = latitude2\n",
    "        self.longitude2  = longitude2\n",
    "        self.rise = self.latitude1 - self.latitude2\n",
    "        self.run = self.longitude1 - self.longitude2\n",
    "        \n",
    "    def distance(self):\n",
    "        return (abs(self.rise)/abs(self.run))*111111"
   ]
  },
  {
   "cell_type": "code",
   "execution_count": 13,
   "metadata": {},
   "outputs": [],
   "source": [
    "def source():\n",
    "    print('This is a distance calculator.')\n",
    "    location1 = input('What is your first location: ')\n",
    "    location2 = input('What is your second location: ')\n",
    "    latitude1 = 'a'\n",
    "    latitude2 = 'b'\n",
    "    longitude1 = 'c'\n",
    "    longitude2 = 'd'\n",
    "    while latitude1 != int():\n",
    "        latitude1 = int(input('Please enter the latitude of your first location: '))\n",
    "    while longitude1 != int():   \n",
    "        longitude1 = int(input('Please enter the longitude of your first location: '))\n",
    "    while latitude2 != int:\n",
    "        latitude2 = int(input('Please enter the latitude of your second location: '))\n",
    "    while longitude2 != int:\n",
    "        longitude2 = int(input('Please enter the longitude of your second location: '))\n",
    "    print(f\"The co-ordinates of {location1} are:\\n({latitude1} N,{longitude1} S)\")\n",
    "    print(f\"The co-ordinates of {location2} are:\\n({latitude2} N,{longitude2} S)\")\n",
    "    distance = Coordinates(latitude1,longitude1,latitude2,longitude2)\n",
    "    meters = distance.distance()\n",
    "    print(f'The distance between {location1} and {location2} is {meters}m')\n",
    "    print('Calculation complete.\\nThank you.Goodbye')"
   ]
  },
  {
   "cell_type": "code",
   "execution_count": 14,
   "metadata": {},
   "outputs": [
    {
     "name": "stdout",
     "output_type": "stream",
     "text": [
      "This is a distance calculator.\n",
      "What is your first location: Zim\n",
      "What is your second location: SA\n",
      "Please enter the latitude of your first location: e\n"
     ]
    },
    {
     "ename": "ValueError",
     "evalue": "invalid literal for int() with base 10: 'e'",
     "output_type": "error",
     "traceback": [
      "\u001b[1;31m---------------------------------------------------------------------------\u001b[0m",
      "\u001b[1;31mValueError\u001b[0m                                Traceback (most recent call last)",
      "\u001b[1;32m<ipython-input-14-22e16c875aee>\u001b[0m in \u001b[0;36m<module>\u001b[1;34m\u001b[0m\n\u001b[1;32m----> 1\u001b[1;33m \u001b[0msource\u001b[0m\u001b[1;33m(\u001b[0m\u001b[1;33m)\u001b[0m\u001b[1;33m\u001b[0m\u001b[1;33m\u001b[0m\u001b[0m\n\u001b[0m",
      "\u001b[1;32m<ipython-input-13-ca5028e434bd>\u001b[0m in \u001b[0;36msource\u001b[1;34m()\u001b[0m\n\u001b[0;32m      8\u001b[0m     \u001b[0mlongitude2\u001b[0m \u001b[1;33m=\u001b[0m \u001b[1;34m'd'\u001b[0m\u001b[1;33m\u001b[0m\u001b[1;33m\u001b[0m\u001b[0m\n\u001b[0;32m      9\u001b[0m     \u001b[1;32mwhile\u001b[0m \u001b[0mlatitude1\u001b[0m \u001b[1;33m!=\u001b[0m \u001b[0mint\u001b[0m\u001b[1;33m:\u001b[0m\u001b[1;33m\u001b[0m\u001b[1;33m\u001b[0m\u001b[0m\n\u001b[1;32m---> 10\u001b[1;33m         \u001b[0mlatitude1\u001b[0m \u001b[1;33m=\u001b[0m \u001b[0mint\u001b[0m\u001b[1;33m(\u001b[0m\u001b[0minput\u001b[0m\u001b[1;33m(\u001b[0m\u001b[1;34m'Please enter the latitude of your first location: '\u001b[0m\u001b[1;33m)\u001b[0m\u001b[1;33m)\u001b[0m\u001b[1;33m\u001b[0m\u001b[1;33m\u001b[0m\u001b[0m\n\u001b[0m\u001b[0;32m     11\u001b[0m     \u001b[1;32mwhile\u001b[0m \u001b[0mlongitude1\u001b[0m \u001b[1;33m!=\u001b[0m \u001b[0mint\u001b[0m\u001b[1;33m:\u001b[0m\u001b[1;33m\u001b[0m\u001b[1;33m\u001b[0m\u001b[0m\n\u001b[0;32m     12\u001b[0m         \u001b[0mlongitude1\u001b[0m \u001b[1;33m=\u001b[0m \u001b[0mint\u001b[0m\u001b[1;33m(\u001b[0m\u001b[0minput\u001b[0m\u001b[1;33m(\u001b[0m\u001b[1;34m'Please enter the longitude of your first location: '\u001b[0m\u001b[1;33m)\u001b[0m\u001b[1;33m)\u001b[0m\u001b[1;33m\u001b[0m\u001b[1;33m\u001b[0m\u001b[0m\n",
      "\u001b[1;31mValueError\u001b[0m: invalid literal for int() with base 10: 'e'"
     ]
    }
   ],
   "source": [
    "source()"
   ]
  },
  {
   "cell_type": "code",
   "execution_count": null,
   "metadata": {},
   "outputs": [],
   "source": []
  }
 ],
 "metadata": {
  "kernelspec": {
   "display_name": "Python 3",
   "language": "python",
   "name": "python3"
  },
  "language_info": {
   "codemirror_mode": {
    "name": "ipython",
    "version": 3
   },
   "file_extension": ".py",
   "mimetype": "text/x-python",
   "name": "python",
   "nbconvert_exporter": "python",
   "pygments_lexer": "ipython3",
   "version": "3.7.6"
  }
 },
 "nbformat": 4,
 "nbformat_minor": 4
}
