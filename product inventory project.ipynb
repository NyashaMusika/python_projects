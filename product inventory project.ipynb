{
 "cells": [
  {
   "cell_type": "code",
   "execution_count": 42,
   "metadata": {},
   "outputs": [],
   "source": [
    "products = ['hennessy','ciroc','cruz','bombey','jack daniels']\n",
    "products_prices = {'hennessy':650, 'ciroc':440, 'cruz':250, 'Bombey':550, 'Jack Daniels':257}\n",
    "IDs = {'hennessy':1, 'ciroc':2, 'cruz':3, 'Bombey':4, 'Jack Daniels':5}"
   ]
  },
  {
   "cell_type": "code",
   "execution_count": 43,
   "metadata": {},
   "outputs": [],
   "source": [
    "class Product:\n",
    "    \n",
    "    def __init__(self,price,ID,quantity):\n",
    "        \n",
    "        self.price = price\n",
    "        self.ID = ID\n",
    "        self.quantity = quantity\n",
    "        \n",
    "    def total_price(self):\n",
    "        return self.quantity * self.price"
   ]
  },
  {
   "cell_type": "code",
   "execution_count": 44,
   "metadata": {},
   "outputs": [],
   "source": [
    "def add_item():\n",
    "    \n",
    "    while True:\n",
    "        print(products)\n",
    "        product = input('what product would you like to add?: ')\n",
    "        if product.lower() in products and IDs:\n",
    "            price  = products_prices[product.lower()]\n",
    "            ID = IDs[product.lower()]\n",
    "            quantity = int(input('How many bottles would you like to add: '))\n",
    "            bottle = Product(price,ID,quantity)\n",
    "            break\n",
    "        else:\n",
    "            continue\n",
    "    return bottle\n"
   ]
  },
  {
   "cell_type": "code",
   "execution_count": 45,
   "metadata": {},
   "outputs": [],
   "source": [
    "def storage(Inventory):\n",
    "    Hennessy = []\n",
    "    Cruz = []\n",
    "    Ciroc = []\n",
    "    Bombey = []\n",
    "    Jack_Daniels = []\n",
    "    \n",
    "    for item in Inventory:\n",
    "        if item.ID == 1:\n",
    "            Hennessy.append(item.quantity)\n",
    "        elif item.ID == 2:\n",
    "            Ciroc.append(item.quantity)\n",
    "        elif item.ID == 3:\n",
    "            Cruz.append(item.quantity)\n",
    "        elif item.ID == 4:\n",
    "            Bombey.append(item.quantity)\n",
    "        elif item.ID == 5:\n",
    "            Jack_Daniels.append(item.quantity)\n",
    "        else:\n",
    "            pass\n",
    "        \n",
    "    print(f'Hennessy: {len(Hennessy)}')\n",
    "    print(f'Cruz: {len(Cruz)}')\n",
    "    print(f'Ciroc: {len(Ciroc)}')\n",
    "    print(f'Bombey: {len(Bombey)}')\n",
    "    print(f'Jack Daniels: {len(Jack_Daniels)}')"
   ]
  },
  {
   "cell_type": "code",
   "execution_count": 51,
   "metadata": {},
   "outputs": [],
   "source": [
    "def main():\n",
    "    playing = True\n",
    "    playing1 = True \n",
    "    Inventory = []\n",
    "    quantity = 0\n",
    "    total = 0\n",
    "    print('hello I am the inventory system.\\n\\ta)Add Item \\n\\tb)Inventory Status \\n\\tc)Specifics \\n\\td)End program')\n",
    "    while playing:\n",
    "        while playing1:\n",
    "            response = input('enter a,b,c or d: ')\n",
    "            if response[0].lower() == 'a':\n",
    "                Inventory.append(add_item())\n",
    "                playing1 = False\n",
    "            elif response[0].lower() == 'b':\n",
    "                for item in Inventory:\n",
    "                    quantity += item.quantity\n",
    "                print(f'You have {quantity} items on hand.')\n",
    "                for item in Inventory:\n",
    "                    total += item.total_price()\n",
    "                print(f'The value of your onhand goods are R{total}.')\n",
    "                playing1 = False\n",
    "            elif response[0].lower() == 'c':\n",
    "                storage(Inventory)\n",
    "                playing1 = False\n",
    "            elif response[0].lower() == 'd':\n",
    "                playing1 = False\n",
    "            else:\n",
    "                continue\n",
    "\n",
    "        requests = input(\"Is there anything else you need? Enter 'y' or 'n' \")\n",
    "        if requests[0].lower()=='y':\n",
    "            playing1 = True\n",
    "            continue \n",
    "        else:\n",
    "            playing = False\n",
    "    print(\"Goodbye!\")"
   ]
  },
  {
   "cell_type": "code",
   "execution_count": 52,
   "metadata": {},
   "outputs": [
    {
     "name": "stdout",
     "output_type": "stream",
     "text": [
      "hello I am the inventory system.\n",
      "\ta)Add Item \n",
      "\tb)Inventory Status \n",
      "\tc)Specifics \n",
      "\td)End program\n",
      "enter a,b,c or d: a\n",
      "['hennessy', 'ciroc', 'cruz', 'bombey', 'jack daniels']\n",
      "what product would you like to add?: cruz\n",
      "How many bottles would you like to add: 4\n",
      "Is there anything else you need? Enter 'y' or 'n' y\n",
      "enter a,b,c or d: a\n",
      "['hennessy', 'ciroc', 'cruz', 'bombey', 'jack daniels']\n",
      "what product would you like to add?: hennessy\n",
      "How many bottles would you like to add: 8\n",
      "Is there anything else you need? Enter 'y' or 'n' y\n",
      "enter a,b,c or d: b\n",
      "You have 12 items on hand.\n",
      "The value of your onhand goods are R6200.\n",
      "Is there anything else you need? Enter 'y' or 'n' y\n",
      "enter a,b,c or d: c\n",
      "Hennessy: 1\n",
      "Cruz: 1\n",
      "Ciroc: 0\n",
      "Bombey: 0\n",
      "Jack Daniels: 0\n",
      "Is there anything else you need? Enter 'y' or 'n' n\n",
      "Goodbye!\n"
     ]
    }
   ],
   "source": [
    "main()"
   ]
  }
 ],
 "metadata": {
  "kernelspec": {
   "display_name": "Python 3",
   "language": "python",
   "name": "python3"
  },
  "language_info": {
   "codemirror_mode": {
    "name": "ipython",
    "version": 3
   },
   "file_extension": ".py",
   "mimetype": "text/x-python",
   "name": "python",
   "nbconvert_exporter": "python",
   "pygments_lexer": "ipython3",
   "version": "3.7.6"
  }
 },
 "nbformat": 4,
 "nbformat_minor": 4
}
